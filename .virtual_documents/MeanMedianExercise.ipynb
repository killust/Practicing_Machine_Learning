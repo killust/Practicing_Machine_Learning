





%matplotlib inline
import numpy as np
import matplotlib.pyplot as plt

incomes = np.random.normal(100.0, 20.0, 10000)

plt.hist(incomes, 50)
plt.show()





np.mean(incomes)


np.median(incomes)





incomes = np.append(incomes, [100000000000])


np.mean(incomes)


from scipy import stats
stats.mode(incomes)


 
